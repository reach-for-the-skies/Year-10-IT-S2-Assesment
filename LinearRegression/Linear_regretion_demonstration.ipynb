{
 "cells": [
  {
   "cell_type": "code",
   "execution_count": 3,
   "metadata": {},
   "outputs": [],
   "source": [
    "import pandas as pd\n",
    "import numpy as np\n",
    "import sklearn\n",
    "from sklearn import linear_model\n",
    "from sklearn.utils import shuffle"
   ]
  },
  {
   "cell_type": "code",
   "execution_count": 4,
   "metadata": {},
   "outputs": [],
   "source": [
    "data = pd.read_csv(\"student-mat.csv\", sep=\";\")\n",
    "\n",
    "data = data[[\"G1\", \"G2\", \"G3\", \"studytime\", \"failures\"]]\n",
    "\n",
    "predict = \"G3\""
   ]
  },
  {
   "cell_type": "code",
   "execution_count": 5,
   "metadata": {},
   "outputs": [
    {
     "name": "stdout",
     "output_type": "stream",
     "text": [
      "0.8512527228967921\n"
     ]
    }
   ],
   "source": [
    "x = np.array(data.drop(columns=[predict]))\n",
    "y = np.array(data[predict])\n",
    "\n",
    "x_train, x_test, y_train, y_test = sklearn.model_selection.train_test_split(x, y, test_size = 0.1)\n",
    "\n",
    "linear = linear_model.LinearRegression()\n",
    "\n",
    "linear.fit(x_train, y_train)\n",
    "acc = linear.score(x_test, y_test)\n",
    "print(acc)"
   ]
  },
  {
   "cell_type": "code",
   "execution_count": 6,
   "metadata": {},
   "outputs": [
    {
     "name": "stdout",
     "output_type": "stream",
     "text": [
      "Coefficient: \n",
      " [ 0.15974779  0.97780186 -0.19235213 -0.23399724]\n",
      "Intercept: \n",
      " -1.3543058839265232\n",
      "11.126135865968783 [12 11  1  0] 11\n",
      "14.812386824193572 [13 15  3  0] 15\n",
      "7.873234715468628 [10  8  1  0] 9\n",
      "8.53154100477113 [8 9 1 0] 8\n",
      "6.309335694303527 [9 7 2 1] 8\n",
      "15.324234528292711 [15 15  2  0] 16\n",
      "9.157242945946738 [ 7 10  2  0] 11\n",
      "5.9898401236553624 [7 7 2 1] 7\n",
      "13.049135237743219 [13 13  2  0] 13\n",
      "13.049135237743219 [13 13  2  0] 12\n",
      "14.219289231144856 [13 14  1  0] 14\n",
      "8.69128879009521 [9 9 1 0] 9\n",
      "4.108485860869339 [6 5 2 0] 6\n",
      "8.65868444196832 [10  9  2  0] 9\n",
      "15.48398231361679 [16 15  2  0] 15\n",
      "7.287137554254189 [9 8 2 1] 0\n",
      "10.80664029532062 [10 11  1  0] 10\n",
      "-0.48238334526922977 [12  0  3  2] 0\n",
      "11.911585592468473 [12 12  2  0] 11\n",
      "8.65868444196832 [10  9  2  0] 9\n",
      "7.553739144820465 [8 8 1 0] 11\n",
      "12.103937725919446 [12 12  1  0] 14\n",
      "11.526881325566528 [12 12  4  0] 12\n",
      "10.581683813742755 [11 11  3  0] 10\n",
      "11.878981244341583 [13 12  3  0] 12\n",
      "6.031485232643775 [7 7 3 0] 7\n",
      "7.744050949244196 [6 9 1 2] 8\n",
      "12.856783104292246 [13 13  3  0] 14\n",
      "18.89663124944103 [19 18  2  0] 18\n",
      "12.423433296567609 [14 12  1  0] 12\n",
      "9.603881953792092 [11 10  3  0] 11\n",
      "3.5988462670021564 [6 5 1 3] 5\n",
      "15.676334447067765 [16 15  1  0] 16\n",
      "16.1096842547924 [15 16  3  0] 15\n",
      "14.154080534891074 [15 14  3  0] 14\n",
      "7.391951030469141 [5 9 2 2] 7\n",
      "15.004738957644546 [13 15  2  0] 16\n",
      "13.674837178918828 [12 14  3  0] 15\n",
      "14.379037016468937 [14 14  1  0] 14\n",
      "15.164486742968629 [14 15  2  0] 15\n"
     ]
    }
   ],
   "source": [
    "print('Coefficient: \\n', linear.coef_)\n",
    "print('Intercept: \\n', linear.intercept_)\n",
    "\n",
    "predictions = linear.predict(x_test)\n",
    "\n",
    "for x in range(len(predictions)):\n",
    "    print(predictions[x], x_test[x], y_test[x])"
   ]
  }
 ],
 "metadata": {
  "kernelspec": {
   "display_name": "Python 3",
   "language": "python",
   "name": "python3"
  },
  "language_info": {
   "codemirror_mode": {
    "name": "ipython",
    "version": 3
   },
   "file_extension": ".py",
   "mimetype": "text/x-python",
   "name": "python",
   "nbconvert_exporter": "python",
   "pygments_lexer": "ipython3",
   "version": "3.11.4"
  },
  "orig_nbformat": 4
 },
 "nbformat": 4,
 "nbformat_minor": 2
}
