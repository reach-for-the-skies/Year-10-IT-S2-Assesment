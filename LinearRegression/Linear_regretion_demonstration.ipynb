{
 "cells": [
  {
   "cell_type": "code",
   "execution_count": 171,
   "metadata": {},
   "outputs": [],
   "source": [
    "import pandas as pd\n",
    "import numpy as np\n",
    "import sklearn\n",
    "from sklearn import linear_model\n",
    "from sklearn.utils import shuffle"
   ]
  },
  {
   "cell_type": "code",
   "execution_count": 172,
   "metadata": {},
   "outputs": [],
   "source": [
    "data = pd.read_csv(\"student-mat.csv\", sep=\";\")\n",
    "\n",
    "data = data[[\"G1\", \"G2\", \"G3\", \"studytime\", \"failures\"]]\n",
    "\n",
    "predict = \"G3\""
   ]
  },
  {
   "cell_type": "code",
   "execution_count": 173,
   "metadata": {},
   "outputs": [
    {
     "name": "stdout",
     "output_type": "stream",
     "text": [
      "0.6925933992402312\n"
     ]
    }
   ],
   "source": [
    "x = np.array(data.drop(columns=[predict]))\n",
    "y = np.array(data[predict])\n",
    "\n",
    "x_train, x_test, y_train, y_test = sklearn.model_selection.train_test_split(x, y, test_size = 0.1)\n",
    "\n",
    "linear = linear_model.LinearRegression()\n",
    "\n",
    "linear.fit(x_train, y_train)\n",
    "acc = linear.score(x_test, y_test)\n",
    "print(acc)"
   ]
  },
  {
   "cell_type": "code",
   "execution_count": 174,
   "metadata": {},
   "outputs": [
    {
     "name": "stdout",
     "output_type": "stream",
     "text": [
      "Coefficient: \n",
      " [ 0.14392824  0.96884896 -0.10761985 -0.29858827]\n",
      "Intercept: \n",
      " -1.189775268625434\n",
      "9.290972353993812 [ 7 10  2  0] 11\n",
      "8.53866841942783 [10  9  4  0] 0\n",
      "15.43057133423058 [16 15  2  0] 15\n",
      "13.849701015071114 [11 14  1  0] 14\n",
      "9.86668531585094 [11 10  2  0] 10\n",
      "16.507040143815814 [16 16  1  0] 15\n",
      "8.106883698034983 [7 9 4 0] 0\n",
      "15.286643093766296 [15 15  2  0] 15\n",
      "11.804383242274232 [11 12  2  0] 11\n",
      "4.111830875540699 [6 5 1 1] 0\n",
      "8.466051631246449 [8 9 2 0] 10\n",
      "16.219183662887254 [14 16  1  0] 16\n",
      "15.286643093766296 [15 15  2  0] 16\n",
      "8.646288265801422 [10  9  3  0] 10\n",
      "15.286643093766296 [15 15  2  0] 15\n",
      "9.578828834922376 [ 9 10  2  0] 10\n",
      "8.717599718084323 [9 9 1 0] 10\n",
      "6.085837196054681 [7 7 2 1] 0\n",
      "14.818549978282759 [11 15  1  0] 15\n",
      "5.632588899910573 [8 7 2 3] 8\n",
      "6.528353704823158 [8 7 2 0] 9\n",
      "12.989777234131541 [14 13  4  0] 14\n",
      "6.709057709495809 [8 8 1 3] 10\n",
      "8.214503544408574 [7 9 3 0] 8\n",
      "9.974305162224532 [11 10  1  0] 10\n",
      "10.40374955766974 [ 8 11  2  0] 11\n",
      "8.609979871710731 [9 9 2 0] 9\n",
      "9.722757075386658 [10 10  2  0] 10\n",
      "13.922317803252495 [13 14  3  0] 14\n",
      "3.514654338932309 [6 5 1 3] 0\n",
      "12.557992512738695 [11 13  4  0] 14\n",
      "12.91716044595016 [12 13  2  0] 12\n",
      "11.948311482738514 [12 12  2  0] 11\n",
      "11.937579695362883 [14 12  2  1] 12\n",
      "8.466051631246449 [8 9 2 0] 10\n",
      "8.992384085689617 [ 7 10  2  1] 11\n",
      "10.943154125436177 [11 11  1  0] 12\n",
      "8.897836352639295 [11  9  2  0] 9\n",
      "5.488660659446291 [7 7 2 3] 7\n",
      "16.184180604695044 [16 16  4  0] 16\n"
     ]
    }
   ],
   "source": [
    "print('Coefficient: \\n', linear.coef_)\n",
    "print('Intercept: \\n', linear.intercept_)\n",
    "\n",
    "predictions = linear.predict(x_test)\n",
    "\n",
    "for x in range(len(predictions)):\n",
    "    print(predictions[x], x_test[x], y_test[x])"
   ]
  }
 ],
 "metadata": {
  "kernelspec": {
   "display_name": "Python 3",
   "language": "python",
   "name": "python3"
  },
  "language_info": {
   "codemirror_mode": {
    "name": "ipython",
    "version": 3
   },
   "file_extension": ".py",
   "mimetype": "text/x-python",
   "name": "python",
   "nbconvert_exporter": "python",
   "pygments_lexer": "ipython3",
   "version": "3.11.4"
  },
  "orig_nbformat": 4
 },
 "nbformat": 4,
 "nbformat_minor": 2
}
